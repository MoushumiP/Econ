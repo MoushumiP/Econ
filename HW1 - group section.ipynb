{
 "cells": [
  {
   "cell_type": "markdown",
   "metadata": {},
   "source": [
    "# HW 1 - GROUP 4\n",
    "\n",
    "### Team members - Jingwen Li, Elie Kostenbaum, Moushumi Pardesi"
   ]
  },
  {
   "cell_type": "code",
   "execution_count": 21,
   "metadata": {},
   "outputs": [],
   "source": [
    "import os\n",
    "import pandas as pd\n",
    "import datetime as dt\n",
    "import matplotlib.pyplot as plt\n",
    "import numpy as np\n",
    "import warnings\n",
    "warnings.filterwarnings(\"ignore\")"
   ]
  },
  {
   "cell_type": "code",
   "execution_count": 14,
   "metadata": {},
   "outputs": [
    {
     "data": {
      "text/html": [
       "<div>\n",
       "<style scoped>\n",
       "    .dataframe tbody tr th:only-of-type {\n",
       "        vertical-align: middle;\n",
       "    }\n",
       "\n",
       "    .dataframe tbody tr th {\n",
       "        vertical-align: top;\n",
       "    }\n",
       "\n",
       "    .dataframe thead th {\n",
       "        text-align: right;\n",
       "    }\n",
       "</style>\n",
       "<table border=\"1\" class=\"dataframe\">\n",
       "  <thead>\n",
       "    <tr style=\"text-align: right;\">\n",
       "      <th></th>\n",
       "      <th>ISSUER_NAME</th>\n",
       "      <th>ISSUERID</th>\n",
       "      <th>AS_OF_DATE</th>\n",
       "      <th>IVA_INDUSTRY</th>\n",
       "      <th>INDUSTRY_ADJUSTED_SCORE</th>\n",
       "      <th>WEIGHTED_AVERAGE_SCORE</th>\n",
       "      <th>ENVIRONMENTAL_PILLAR_SCORE</th>\n",
       "      <th>ENVIRONMENTAL_PILLAR_WEIGHT</th>\n",
       "      <th>SOCIAL_PILLAR_SCORE</th>\n",
       "      <th>SOCIAL_PILLAR_WEIGHT</th>\n",
       "      <th>GOVERNANCE_PILLAR_SCORE</th>\n",
       "      <th>GOVERNANCE_PILLAR_WEIGHT</th>\n",
       "      <th>RET</th>\n",
       "      <th>PRC</th>\n",
       "      <th>SHROUT</th>\n",
       "    </tr>\n",
       "  </thead>\n",
       "  <tbody>\n",
       "    <tr>\n",
       "      <th>0</th>\n",
       "      <td>QEP Resources, Inc.</td>\n",
       "      <td>IID000000002231971</td>\n",
       "      <td>2012-01-01</td>\n",
       "      <td>Oil &amp; Gas Exploration &amp; Production</td>\n",
       "      <td>4.55</td>\n",
       "      <td>6.00</td>\n",
       "      <td>4.70</td>\n",
       "      <td>56.00</td>\n",
       "      <td>7.40</td>\n",
       "      <td>22.00</td>\n",
       "      <td>7.90</td>\n",
       "      <td>22.00</td>\n",
       "      <td>-0.022526</td>\n",
       "      <td>NaN</td>\n",
       "      <td>242566.0</td>\n",
       "    </tr>\n",
       "    <tr>\n",
       "      <th>1</th>\n",
       "      <td>IAMGOLD Corporation</td>\n",
       "      <td>IID000000002169868</td>\n",
       "      <td>2012-01-01</td>\n",
       "      <td>Metals and Mining - Precious Metals</td>\n",
       "      <td>4.66</td>\n",
       "      <td>5.97</td>\n",
       "      <td>6.12</td>\n",
       "      <td>55.25</td>\n",
       "      <td>6.14</td>\n",
       "      <td>25.00</td>\n",
       "      <td>5.36</td>\n",
       "      <td>19.75</td>\n",
       "      <td>0.056151</td>\n",
       "      <td>3.48</td>\n",
       "      <td>477033.0</td>\n",
       "    </tr>\n",
       "    <tr>\n",
       "      <th>2</th>\n",
       "      <td>Las Vegas Sands Corp.</td>\n",
       "      <td>IID000000002173531</td>\n",
       "      <td>2012-01-01</td>\n",
       "      <td>Casinos &amp; Gaming</td>\n",
       "      <td>0.00</td>\n",
       "      <td>5.89</td>\n",
       "      <td>5.29</td>\n",
       "      <td>38.00</td>\n",
       "      <td>6.70</td>\n",
       "      <td>32.00</td>\n",
       "      <td>5.80</td>\n",
       "      <td>30.00</td>\n",
       "      <td>0.149310</td>\n",
       "      <td>38.87</td>\n",
       "      <td>763990.0</td>\n",
       "    </tr>\n",
       "    <tr>\n",
       "      <th>3</th>\n",
       "      <td>Honeywell International Inc.</td>\n",
       "      <td>IID000000002127578</td>\n",
       "      <td>2012-01-01</td>\n",
       "      <td>Aerospace &amp; Defense</td>\n",
       "      <td>5.64</td>\n",
       "      <td>5.83</td>\n",
       "      <td>4.09</td>\n",
       "      <td>45.00</td>\n",
       "      <td>6.60</td>\n",
       "      <td>25.00</td>\n",
       "      <td>7.80</td>\n",
       "      <td>30.00</td>\n",
       "      <td>0.067893</td>\n",
       "      <td>194.58</td>\n",
       "      <td>685894.0</td>\n",
       "    </tr>\n",
       "    <tr>\n",
       "      <th>4</th>\n",
       "      <td>Staples, Inc.</td>\n",
       "      <td>IID000000002145070</td>\n",
       "      <td>2012-01-01</td>\n",
       "      <td>Specialty Retail</td>\n",
       "      <td>6.10</td>\n",
       "      <td>5.81</td>\n",
       "      <td>7.02</td>\n",
       "      <td>24.65</td>\n",
       "      <td>5.42</td>\n",
       "      <td>70.79</td>\n",
       "      <td>5.30</td>\n",
       "      <td>4.56</td>\n",
       "      <td>0.053276</td>\n",
       "      <td>NaN</td>\n",
       "      <td>656713.0</td>\n",
       "    </tr>\n",
       "  </tbody>\n",
       "</table>\n",
       "</div>"
      ],
      "text/plain": [
       "                    ISSUER_NAME            ISSUERID AS_OF_DATE  \\\n",
       "0           QEP Resources, Inc.  IID000000002231971 2012-01-01   \n",
       "1           IAMGOLD Corporation  IID000000002169868 2012-01-01   \n",
       "2         Las Vegas Sands Corp.  IID000000002173531 2012-01-01   \n",
       "3  Honeywell International Inc.  IID000000002127578 2012-01-01   \n",
       "4                 Staples, Inc.  IID000000002145070 2012-01-01   \n",
       "\n",
       "                          IVA_INDUSTRY  INDUSTRY_ADJUSTED_SCORE  \\\n",
       "0   Oil & Gas Exploration & Production                     4.55   \n",
       "1  Metals and Mining - Precious Metals                     4.66   \n",
       "2                     Casinos & Gaming                     0.00   \n",
       "3                  Aerospace & Defense                     5.64   \n",
       "4                     Specialty Retail                     6.10   \n",
       "\n",
       "   WEIGHTED_AVERAGE_SCORE  ENVIRONMENTAL_PILLAR_SCORE  \\\n",
       "0                    6.00                        4.70   \n",
       "1                    5.97                        6.12   \n",
       "2                    5.89                        5.29   \n",
       "3                    5.83                        4.09   \n",
       "4                    5.81                        7.02   \n",
       "\n",
       "   ENVIRONMENTAL_PILLAR_WEIGHT  SOCIAL_PILLAR_SCORE  SOCIAL_PILLAR_WEIGHT  \\\n",
       "0                        56.00                 7.40                 22.00   \n",
       "1                        55.25                 6.14                 25.00   \n",
       "2                        38.00                 6.70                 32.00   \n",
       "3                        45.00                 6.60                 25.00   \n",
       "4                        24.65                 5.42                 70.79   \n",
       "\n",
       "   GOVERNANCE_PILLAR_SCORE  GOVERNANCE_PILLAR_WEIGHT        RET     PRC  \\\n",
       "0                     7.90                     22.00  -0.022526     NaN   \n",
       "1                     5.36                     19.75   0.056151    3.48   \n",
       "2                     5.80                     30.00   0.149310   38.87   \n",
       "3                     7.80                     30.00   0.067893  194.58   \n",
       "4                     5.30                      4.56   0.053276     NaN   \n",
       "\n",
       "     SHROUT  \n",
       "0  242566.0  \n",
       "1  477033.0  \n",
       "2  763990.0  \n",
       "3  685894.0  \n",
       "4  656713.0  "
      ]
     },
     "execution_count": 14,
     "metadata": {},
     "output_type": "execute_result"
    }
   ],
   "source": [
    "os.chdir('/Users/moush/Desktop/UChicago FINM/Econ/Asn1')\n",
    "df = pd.read_csv('MSCI_sample.CSV')\n",
    "df['AS_OF_DATE'] =pd.to_datetime(df['AS_OF_DATE'])\n",
    "df_rf = pd.read_csv('F-F_Research_Data_Factors.CSV')\n",
    "df_rf.set_index('date', inplace=True)\n",
    "df.head()"
   ]
  },
  {
   "cell_type": "code",
   "execution_count": 15,
   "metadata": {},
   "outputs": [
    {
     "data": {
      "text/html": [
       "<div>\n",
       "<style scoped>\n",
       "    .dataframe tbody tr th:only-of-type {\n",
       "        vertical-align: middle;\n",
       "    }\n",
       "\n",
       "    .dataframe tbody tr th {\n",
       "        vertical-align: top;\n",
       "    }\n",
       "\n",
       "    .dataframe thead th {\n",
       "        text-align: right;\n",
       "    }\n",
       "</style>\n",
       "<table border=\"1\" class=\"dataframe\">\n",
       "  <thead>\n",
       "    <tr style=\"text-align: right;\">\n",
       "      <th></th>\n",
       "      <th>Mkt-RF</th>\n",
       "      <th>SMB</th>\n",
       "      <th>HML</th>\n",
       "      <th>RF</th>\n",
       "    </tr>\n",
       "    <tr>\n",
       "      <th>date</th>\n",
       "      <th></th>\n",
       "      <th></th>\n",
       "      <th></th>\n",
       "      <th></th>\n",
       "    </tr>\n",
       "  </thead>\n",
       "  <tbody>\n",
       "    <tr>\n",
       "      <th>192607</th>\n",
       "      <td>2.96</td>\n",
       "      <td>-2.56</td>\n",
       "      <td>-2.43</td>\n",
       "      <td>0.22</td>\n",
       "    </tr>\n",
       "    <tr>\n",
       "      <th>192608</th>\n",
       "      <td>2.64</td>\n",
       "      <td>-1.17</td>\n",
       "      <td>3.82</td>\n",
       "      <td>0.25</td>\n",
       "    </tr>\n",
       "    <tr>\n",
       "      <th>192609</th>\n",
       "      <td>0.36</td>\n",
       "      <td>-1.4</td>\n",
       "      <td>0.13</td>\n",
       "      <td>0.23</td>\n",
       "    </tr>\n",
       "    <tr>\n",
       "      <th>192610</th>\n",
       "      <td>-3.24</td>\n",
       "      <td>-0.09</td>\n",
       "      <td>0.7</td>\n",
       "      <td>0.32</td>\n",
       "    </tr>\n",
       "    <tr>\n",
       "      <th>192611</th>\n",
       "      <td>2.53</td>\n",
       "      <td>-0.1</td>\n",
       "      <td>-0.51</td>\n",
       "      <td>0.31</td>\n",
       "    </tr>\n",
       "  </tbody>\n",
       "</table>\n",
       "</div>"
      ],
      "text/plain": [
       "       Mkt-RF    SMB    HML    RF\n",
       "date                             \n",
       "192607   2.96  -2.56  -2.43  0.22\n",
       "192608   2.64  -1.17   3.82  0.25\n",
       "192609   0.36   -1.4   0.13  0.23\n",
       "192610  -3.24  -0.09    0.7  0.32\n",
       "192611   2.53   -0.1  -0.51  0.31"
      ]
     },
     "execution_count": 15,
     "metadata": {},
     "output_type": "execute_result"
    }
   ],
   "source": [
    "df_rf.head()"
   ]
  },
  {
   "cell_type": "markdown",
   "metadata": {},
   "source": [
    "## 1 ESG (40 points)"
   ]
  },
  {
   "cell_type": "markdown",
   "metadata": {},
   "source": [
    "### 1. \n",
    "\n",
    "The file MSCI sample.csv contains MSCI ESG ratings for a random sample of firms. Following equations 1 and 2 of Pástor et al. (2022), compute the firm-level greenness measure, $ g_{i,t} $. In order to do the value-weighting (this will also apply when you construct the GMB portfolio), use the fields PRC (price) and SHROUT (shares outstanding) to compute the market cap of each firm at each date. Then, $\\overline{G}$ is the market cap weighted average. You do not need to report anything at this step, but will need to use this measure later."
   ]
  },
  {
   "cell_type": "code",
   "execution_count": 19,
   "metadata": {},
   "outputs": [],
   "source": [
    "#calc mkt cap\n",
    "df[\"MKTCAP\"] = df[\"PRC\"] * df[\"SHROUT\"]\n",
    "#calc unadjusted green score\n",
    "df['G'] = -(10 - df['ENVIRONMENTAL_PILLAR_SCORE']) * df['ENVIRONMENTAL_PILLAR_WEIGHT'] / 100\n",
    "#calc wgts\n",
    "df['MKTCAP_SUM']=df.groupby(\"AS_OF_DATE\")[\"MKTCAP\"].transform('sum')\n",
    "df['WGT']=df['MKTCAP']/df['MKTCAP_SUM']\n",
    "'''\n",
    "calc return\n",
    "df_sorted = df.sort_values(['ISSUERID', 'AS_OF_DATE'])\n",
    "df_sorted['RETURN'] = df_sorted.groupby('ISSUERID')['PRC'].pct_change()\n",
    "#calc weighted return\n",
    "df_sorted['WGT_RETURN']=df_sorted['RETURN']*df_sorted['WGT']\n",
    "'''"
   ]
  },
  {
   "cell_type": "markdown",
   "metadata": {},
   "source": [
    "#### (a) (5 points) \n",
    "In your own words, explain what the unadjusted greenness score, $G_{i,t}$, measures. Make sure to mention why we need to include \n",
    "$E_{weight}$."
   ]
  },
  {
   "cell_type": "markdown",
   "metadata": {},
   "source": [
    "#### Answer: \n",
    "The unadjusted greenness score, $G_{i,t}$, is a measure of the environmental performance of a company i at time t. It is calculated as a weighted sum of the company's scores on a set of environmental indicators, such as greenhouse gas emissions, water pollution, and waste production. The weights reflect the relative importance of each indicator.\n",
    "\n",
    "$E_{weight}$ allows us to account for the different environmental impacts of different industries. By including $E_{weight}$, we can ensure that companies in different industries are compared on an apple to apple basis. Additionally, $E_{weight}$ allows us to account for the different levels of environmental regulation in different countries and regions. It allows that companies in different countries and regions are compared on an equal footing."
   ]
  },
  {
   "cell_type": "markdown",
   "metadata": {},
   "source": [
    "#### (b) (5 points) \n",
    "Why does the paper focus on the adjusted greenness score?\n",
    "#### Answer\n",
    "$G_{i,t}$ is a more accurate measure of a firm's environmental performance than raw greenness score because raw score does not take into account the size of the firm or the industry in which it operates. $G_{i,t}$ does take these factors into account, making it a more reliable measure of a firm's environmental performance. $G_{i,t}$ is more useful for investors who are looking to identify companies with good environmental performance because it lets investors to compare companies of different sizes and from different industries on an equal footing."
   ]
  },
  {
   "cell_type": "markdown",
   "metadata": {},
   "source": [
    "### 2. (10 points) \n",
    "Use the description in Section 4 of the paper to replicate Figure 3."
   ]
  },
  {
   "cell_type": "code",
   "execution_count": 24,
   "metadata": {},
   "outputs": [
    {
     "data": {
      "image/png": "[encoded data removed]",
      "text/plain": [
       "<Figure size 640x480 with 1 Axes>"
      ]
     },
     "metadata": {},
     "output_type": "display_data"
    }
   ],
   "source": [
    "##calc return\n",
    "df_sorted = df.sort_values(['ISSUERID', 'AS_OF_DATE'])\n",
    "df_sorted['RETURN'] = df_sorted.groupby('ISSUERID')['PRC'].pct_change()\n",
    "df_sorted = df_sorted.sort_values('AS_OF_DATE').tail(len(df_sorted) - 1807)\n",
    "df_sorted = df_sorted.sort_values('AS_OF_DATE').head(len(df_sorted) - 5669)\n",
    "\n",
    "## calc percentile greennest brownest stocks\n",
    "df_sorted['AS_OF_DATE'] = pd.to_datetime(df_sorted['AS_OF_DATE'])\n",
    "df_sorted['G_low'] = (df_sorted.groupby(df_sorted['AS_OF_DATE'].\n",
    "                                        dt.to_period('M'))['G'].\n",
    "                      transform(lambda x: x.quantile(1 / 3 - 0.002565)))\n",
    "df_sorted['G_high'] = (df_sorted.groupby(df_sorted['AS_OF_DATE'].\n",
    "                                         dt.to_period('M'))['G'].\n",
    "                       transform(lambda x: x.quantile(2 / 3)))\n",
    "df_sorted['total_cap'] = (df_sorted.groupby(df_sorted['AS_OF_DATE'].\n",
    "                                            dt.to_period('M'))['MKTCAP'].transform('sum'))\n",
    "\n",
    "## calc green stocks\n",
    "df_sorted['delta'] = df_sorted['G'] - df_sorted['G_high']\n",
    "green = df_sorted[df_sorted['delta'] > 0]\n",
    "\n",
    "## calc brown stocks\n",
    "df_sorted['delta'] = df_sorted['G_low'] - df_sorted['G']\n",
    "brown = df_sorted[df_sorted['delta'] >= 0]\n",
    "\n",
    "## calc weighted return\n",
    "green['value_weight'] = green['MKTCAP'] / green['total_cap']\n",
    "green['return_weighted'] = green['RETURN'] * green['value_weight']\n",
    "brown['value_weight'] = brown['MKTCAP'] / brown['total_cap']\n",
    "brown['return_weighted'] = brown['RETURN'] * brown['value_weight']\n",
    "green['Green'] = ((green['return_weighted'] + 1).cumprod() - 1)\n",
    "brown['Brown'] = ((brown['return_weighted'] + 1).cumprod() - 1)\n",
    "green['date'] = green['AS_OF_DATE']\n",
    "brown['date'] = brown['AS_OF_DATE']\n",
    "\n",
    "#set graph specs\n",
    "y = green['Green'] * 12 * 12 * 2\n",
    "z = brown['Brown'] * 12 * 12 * 2\n",
    "X = green['date']\n",
    "\n",
    "plt.plot(X, y, color='green', label='Green')\n",
    "plt.plot(X, z, color='brown', label='Brown', linestyle='--')\n",
    "plt.xlabel(\"Date\")\n",
    "plt.ylabel(\"Cumulative return (%)\")\n",
    "plt.legend(loc='upper left', frameon=False)\n",
    "plt.show()\n"
   ]
  },
  {
   "cell_type": "markdown",
   "metadata": {},
   "source": [
    "### 3. (10 points) \n",
    "What is the monthly return and Sharpe ratio of the green minus brown portfolio?"
   ]
  },
  {
   "cell_type": "code",
   "execution_count": 52,
   "metadata": {},
   "outputs": [
    {
     "name": "stdout",
     "output_type": "stream",
     "text": [
      "Monthly return:  6.284676470071088e+209\n",
      "Sharpe_green_minus_brown:  0.0\n"
     ]
    }
   ],
   "source": [
    "green['return_weighted'] = green['return_weighted'] + 1\n",
    "green['CUM'] = green.groupby('AS_OF_DATE')['return_weighted'].cumprod()\n",
    "brown['return_weighted'] = brown['return_weighted'] + 1\n",
    "brown['CUM'] = brown.groupby('AS_OF_DATE')['return_weighted'].cumprod()\n",
    "green['cum_max'] = green.groupby('date')['CUM'].transform('max')\n",
    "green_monthly_returns = green.groupby('date')['CUM'].last()\n",
    "green_monthly_returns = green_monthly_returns.to_frame()\n",
    "green_array = green_monthly_returns[['CUM']].values\n",
    "brown['cum_max'] = brown.groupby('date')['CUM'].transform('max')\n",
    "brown_monthly_returns = brown.groupby('date')['CUM'].last()\n",
    "brown_monthly_returns = brown_monthly_returns.to_frame()\n",
    "brown_array = brown_monthly_returns[['CUM']].values\n",
    "rf_array = df_rf[['RF']].values\n",
    "rf_array = rf_array[:97]\n",
    "rf_array = [float(x) for x in rf_array]\n",
    "green_excess = [(green_array - 1) * 100 - rf_array]\n",
    "brown_excess = [(brown_array - 1) * 100 - rf_array]\n",
    "green_minus_brown = np.subtract(green_excess, brown_excess)\n",
    "Sharpe_green_minus_brown = np.mean(green_minus_brown) / (np.std(green_minus_brown))\n",
    "Sharpe_green = np.mean(green_excess) / (np.std(green_excess))\n",
    "Sharpe_brown = np.mean(brown_excess) / (np.std(brown_excess))\n",
    "print(\"Monthly return: \", np.mean(green_minus_brown))\n",
    "print(\"Sharpe_green_minus_brown: \", np.mean(green_minus_brown) / (np.std(green_minus_brown)) )"
   ]
  },
  {
   "cell_type": "markdown",
   "metadata": {},
   "source": [
    "### 4. (10 points) \n",
    "How does Pástor et al. (2022) explain that green stocks outperform bad stocks when the theoretical model from Pástor et al. (2021) suggests that brown stocks should outperform? Make sure to focus on the distinction between expected and realized returns."
   ]
  },
  {
   "cell_type": "markdown",
   "metadata": {},
   "source": [
    "#### Answer\n",
    "Short-term outperformance of green stocks is due to a change in investor preferences, which leads to a change in realized returns.\n",
    "\n",
    "Brown stocks have a higher expected return than green stocks because they are more likely to generate cash flows in the near term. However, green stocks can outperform brown stocks in the short term if there is a sudden increase in public concern about climate change. This can drive up their prices, even though their expected returns are lower than those of brown stocks.\n",
    "\n",
    "Over the long term, brown stocks are expected to outperform green stocks, due to their higher expected returns."
   ]
  },
  {
   "cell_type": "markdown",
   "metadata": {},
   "source": [
    "## 2 Climate Risk (60 points)"
   ]
  },
  {
   "cell_type": "markdown",
   "metadata": {},
   "source": [
    "The first two parts of this problem are just to give you a chance to explore the industry returns data. The third part is specifically related to climate risk."
   ]
  },
  {
   "cell_type": "markdown",
   "metadata": {},
   "source": [
    "### 1 (5 points) \n",
    "The file 49_Industry_Portfolios.csv contains monthly returns of stocks in 49 different industries. Import this file into your program of choice. Restrict the sample to start in January 2004 and end in June 2018. Calculate the cumulative return of each industry over the sample period. Which were the three highest and three lowest performing industries in this sample?"
   ]
  },
  {
   "cell_type": "code",
   "execution_count": 86,
   "metadata": {},
   "outputs": [],
   "source": [
    "df = pd.read_csv('49_Industry_Portfolios.CSV', skiprows=11) \n",
    "\n",
    "def process_table(data):\n",
    "    data = data.rename(columns ={'Unnamed: 0':'Date'})\n",
    "    data.set_index('Date', inplace=True)\n",
    "    for col in data.columns:\n",
    "        data[col] = data[col].astype(float)\n",
    "    data = data.replace([-99.99, -999], float('nan')) \n",
    "    return data\n",
    "\n",
    "avg_value_weighted_return_M = process_table(df.iloc[:1154])\n",
    "avg_equal_weighted_return_M = process_table(df.iloc[1157:2310])\n",
    "\n",
    "avg_value_weighted_return_Y = process_table(df.iloc[2313:2407])\n",
    "avg_equal_weighted_return_Y = process_table(df.iloc[2411:2504])\n",
    "\n",
    "num_of_firms_in_port = process_table(df.iloc[2507:3660])\n",
    "avg_firm_size = process_table(df.iloc[3663:4816])\n",
    "sum_of_BE_over_sum_of_ME = process_table(df.iloc[4819:4915])\n",
    "value_weighted_average_of_BE_over_ME = process_table(df.iloc[4918:5014])"
   ]
  },
  {
   "cell_type": "code",
   "execution_count": 87,
   "metadata": {},
   "outputs": [
    {
     "name": "stdout",
     "output_type": "stream",
     "text": [
      "Three highest performing industries:\n",
      "Ships    2.958874\n",
      "Smoke    2.858319\n",
      "Guns     2.001190\n",
      "dtype: float64\n",
      "\n",
      "Three lowest performing industries:\n",
      "Books   -0.146192\n",
      "Gold    -0.126099\n",
      "Banks   -0.004481\n",
      "dtype: float64\n"
     ]
    }
   ],
   "source": [
    "avg_value_weighted_return_M=avg_value_weighted_return_M.reset_index()\n",
    "avg_value_weighted_return_M['Date'] = pd.to_datetime(avg_value_weighted_return_M['Date'], format='%Y%m')\n",
    "start_date = pd.to_datetime('2004-01-01')\n",
    "end_date = pd.to_datetime('2018-06-01')\n",
    "filtered_df = avg_value_weighted_return_M[(avg_value_weighted_return_M['Date'] >= start_date) & (avg_value_weighted_return_M['Date'] <= end_date)]\n",
    "avg_value_weighted_return_M = filtered_df.drop(['Date'], axis=1) \n",
    "cumulative_returns = (1 + avg_value_weighted_return_M / 100).cumprod() - 1\n",
    "average_returns = cumulative_returns.mean()\n",
    "top_3_industries = average_returns.nlargest(3)\n",
    "bottom_3_industries = average_returns.nsmallest(3)\n",
    "\n",
    "print(\"Three highest performing industries:\")\n",
    "print(top_3_industries)\n",
    "\n",
    "print(\"\\nThree lowest performing industries:\")\n",
    "print(bottom_3_industries)\n"
   ]
  },
  {
   "cell_type": "markdown",
   "metadata": {},
   "source": [
    "Ships, Smoke, Guns are the top performing industries. Whereas, Books, Gold, Banks are the bottom performing industries."
   ]
  },
  {
   "cell_type": "markdown",
   "metadata": {},
   "source": [
    "### 2 (10 points) \n",
    "For each industry, calculate the standard deviation of returns. Use this to calculate the Sharpe ratio. Which industries have the three highest and three lowest Sharpe ratios? How do these compare to those with the highest and lowest returns?"
   ]
  },
  {
   "cell_type": "code",
   "execution_count": 89,
   "metadata": {},
   "outputs": [
    {
     "name": "stdout",
     "output_type": "stream",
     "text": [
      "Three highest Sharpe ratios:\n",
      "Meals    0.287585\n",
      "Smoke    0.258465\n",
      "Guns     0.257385\n",
      "dtype: float64\n",
      "\n",
      "Three lowest Sharpe ratios:\n",
      "Gold     0.038110\n",
      "Coal     0.040896\n",
      "Books    0.051858\n",
      "dtype: float64\n"
     ]
    }
   ],
   "source": [
    "std_deviation = avg_value_weighted_return_M.std()\n",
    "avg_returns = avg_value_weighted_return_M.mean()\n",
    "sharpe_ratio = avg_returns / std_deviation\n",
    "\n",
    "top_3_industries_sharpe = sharpe_ratio.nlargest(3)\n",
    "bottom_3_industries_sharpe = sharpe_ratio.nsmallest(3)\n",
    "\n",
    "print(\"Three highest Sharpe ratios:\")\n",
    "print(top_3_industries_sharpe)\n",
    "\n",
    "print(\"\\nThree lowest Sharpe ratios:\")\n",
    "print(bottom_3_industries_sharpe)\n"
   ]
  },
  {
   "cell_type": "markdown",
   "metadata": {},
   "source": [
    "Meals, Smoke and Guns have the highest Sharpe ratio. Whereas, Gold, Coal and Books have the lowest Sharpe ratio."
   ]
  },
  {
   "cell_type": "markdown",
   "metadata": {},
   "source": [
    "### 3 \n",
    "In the next sub-questions, we are going to focus on days where attention to climate change is high. We will identify these days in two ways: using Google Trends searches and using the Ardia et al. (2020) climate concerns data."
   ]
  },
  {
   "cell_type": "markdown",
   "metadata": {},
   "source": [
    "#### (a) (20 points) \n",
    "Go to https://trends.google.com/trends/?geo=US and go to the page for the Climate Change topic.8 Change the timing to 2004-present and download the data."
   ]
  },
  {
   "cell_type": "markdown",
   "metadata": {},
   "source": [
    "##### i. \n",
    "Pick three months where this measure was high. Can you find any news events from those months that might be leading Google searches for climate change to be particularly high? Discuss."
   ]
  },
  {
   "attachments": {},
   "cell_type": "markdown",
   "metadata": {},
   "source": [
    "#### Answer:\n",
    "Highest search was for the following months:\n",
    "\n",
    "2022-04\n",
    "2023-04\n",
    "2019-09\n",
    "\n",
    "April 2022 and April 2023: Earth Day is celebrated on April 22nd each year, so people try to learn more about climate change and other environmental issues. Additionally, the Intergovernmental Panel on Climate Change (IPCC) released its Sixth Assessment Report in April 2022, which provided a comprehensive update on the science of climate change. This report may have also contributed to the high search volume for climate change in April 2022 and April 2023.\n",
    "\n",
    "September 2019: The United Nations Climate Action Summit was held in NYC, in September 2019. The summit was intended to galvanize action on climate change, and it featured speeches from world leaders and climate activists. The summit may have contributed to the high search volume for climate change in September 2019."
   ]
  },
  {
   "cell_type": "markdown",
   "metadata": {},
   "source": [
    "##### ii. \n",
    "Merge the Google Trends data with the data from 49_Industry_Portfolios.csv. For each industry, regress returns on the Google Trends Climate Change topic score. Create a table with three columns: column 1 has the industry name, column 2 has the OLS regression coefficient and column 3 has the p-value for that coefficient. Sort the table from largest to smallest coefficient."
   ]
  },
  {
   "cell_type": "code",
   "execution_count": 90,
   "metadata": {},
   "outputs": [],
   "source": [
    "climate_search = pd.read_csv('multiTimeline.csv')"
   ]
  },
  {
   "cell_type": "code",
   "execution_count": null,
   "metadata": {},
   "outputs": [],
   "source": [
    "merged_table = pd.merge(avg_value_weighted_return_M, climate_search, on='Date')\n",
    "regression_model = pd.ols('dependent_variable ~ independent_variable', data=merged_table)\n",
    "\n",
    "# Obtain the regression coefficient and p-value for the independent variable\n",
    "regression_coefficient = regression_model.coef_[0]\n",
    "regression_pvalue = regression_model.pvalues_[0]\n",
    "\n",
    "# Print the regression coefficient and p-value\n",
    "print('Regression coefficient:', regression_coefficient)\n",
    "print('Regression p-value:', regression_pvalue)"
   ]
  },
  {
   "cell_type": "code",
   "execution_count": 92,
   "metadata": {},
   "outputs": [
    {
     "ename": "TypeError",
     "evalue": "Can only merge Series or DataFrame objects, a <class 'list'> was passed",
     "output_type": "error",
     "traceback": [
      "\u001b[0;31m---------------------------------------------------------------------------\u001b[0m",
      "\u001b[0;31mTypeError\u001b[0m                                 Traceback (most recent call last)",
      "Cell \u001b[0;32mIn[92], line 5\u001b[0m\n\u001b[1;32m      3\u001b[0m \u001b[38;5;28;01mfor\u001b[39;00m industry_name \u001b[38;5;129;01min\u001b[39;00m industry_names:\n\u001b[1;32m      4\u001b[0m     industry_portfolios_table_filtered \u001b[38;5;241m=\u001b[39m [avg_value_weighted_return_M[industry_name]]\n\u001b[0;32m----> 5\u001b[0m     merged_table \u001b[38;5;241m=\u001b[39m pd\u001b[38;5;241m.\u001b[39mmerge(climate_search, industry_portfolios_table_filtered, on\u001b[38;5;241m=\u001b[39m\u001b[38;5;124m'\u001b[39m\u001b[38;5;124mDate\u001b[39m\u001b[38;5;124m'\u001b[39m)\n\u001b[1;32m      6\u001b[0m     regression_model \u001b[38;5;241m=\u001b[39m pd\u001b[38;5;241m.\u001b[39mols(\u001b[38;5;124m'\u001b[39m\u001b[38;5;124mindustry_returns ~ google_trends_climate_change_topic_score\u001b[39m\u001b[38;5;124m'\u001b[39m, data\u001b[38;5;241m=\u001b[39mmerged_table)\n\u001b[1;32m      7\u001b[0m     regression_coefficient \u001b[38;5;241m=\u001b[39m regression_model\u001b[38;5;241m.\u001b[39mcoef_[\u001b[38;5;241m0\u001b[39m]\n",
      "File \u001b[0;32m~/anaconda3/lib/python3.11/site-packages/pandas/core/reshape/merge.py:110\u001b[0m, in \u001b[0;36mmerge\u001b[0;34m(left, right, how, on, left_on, right_on, left_index, right_index, sort, suffixes, copy, indicator, validate)\u001b[0m\n\u001b[1;32m     93\u001b[0m \u001b[38;5;129m@Substitution\u001b[39m(\u001b[38;5;124m\"\u001b[39m\u001b[38;5;130;01m\\n\u001b[39;00m\u001b[38;5;124mleft : DataFrame or named Series\u001b[39m\u001b[38;5;124m\"\u001b[39m)\n\u001b[1;32m     94\u001b[0m \u001b[38;5;129m@Appender\u001b[39m(_merge_doc, indents\u001b[38;5;241m=\u001b[39m\u001b[38;5;241m0\u001b[39m)\n\u001b[1;32m     95\u001b[0m \u001b[38;5;28;01mdef\u001b[39;00m \u001b[38;5;21mmerge\u001b[39m(\n\u001b[0;32m   (...)\u001b[0m\n\u001b[1;32m    108\u001b[0m     validate: \u001b[38;5;28mstr\u001b[39m \u001b[38;5;241m|\u001b[39m \u001b[38;5;28;01mNone\u001b[39;00m \u001b[38;5;241m=\u001b[39m \u001b[38;5;28;01mNone\u001b[39;00m,\n\u001b[1;32m    109\u001b[0m ) \u001b[38;5;241m-\u001b[39m\u001b[38;5;241m>\u001b[39m DataFrame:\n\u001b[0;32m--> 110\u001b[0m     op \u001b[38;5;241m=\u001b[39m _MergeOperation(\n\u001b[1;32m    111\u001b[0m         left,\n\u001b[1;32m    112\u001b[0m         right,\n\u001b[1;32m    113\u001b[0m         how\u001b[38;5;241m=\u001b[39mhow,\n\u001b[1;32m    114\u001b[0m         on\u001b[38;5;241m=\u001b[39mon,\n\u001b[1;32m    115\u001b[0m         left_on\u001b[38;5;241m=\u001b[39mleft_on,\n\u001b[1;32m    116\u001b[0m         right_on\u001b[38;5;241m=\u001b[39mright_on,\n\u001b[1;32m    117\u001b[0m         left_index\u001b[38;5;241m=\u001b[39mleft_index,\n\u001b[1;32m    118\u001b[0m         right_index\u001b[38;5;241m=\u001b[39mright_index,\n\u001b[1;32m    119\u001b[0m         sort\u001b[38;5;241m=\u001b[39msort,\n\u001b[1;32m    120\u001b[0m         suffixes\u001b[38;5;241m=\u001b[39msuffixes,\n\u001b[1;32m    121\u001b[0m         indicator\u001b[38;5;241m=\u001b[39mindicator,\n\u001b[1;32m    122\u001b[0m         validate\u001b[38;5;241m=\u001b[39mvalidate,\n\u001b[1;32m    123\u001b[0m     )\n\u001b[1;32m    124\u001b[0m     \u001b[38;5;28;01mreturn\u001b[39;00m op\u001b[38;5;241m.\u001b[39mget_result(copy\u001b[38;5;241m=\u001b[39mcopy)\n",
      "File \u001b[0;32m~/anaconda3/lib/python3.11/site-packages/pandas/core/reshape/merge.py:645\u001b[0m, in \u001b[0;36m_MergeOperation.__init__\u001b[0;34m(self, left, right, how, on, left_on, right_on, axis, left_index, right_index, sort, suffixes, indicator, validate)\u001b[0m\n\u001b[1;32m    628\u001b[0m \u001b[38;5;28;01mdef\u001b[39;00m \u001b[38;5;21m__init__\u001b[39m(\n\u001b[1;32m    629\u001b[0m     \u001b[38;5;28mself\u001b[39m,\n\u001b[1;32m    630\u001b[0m     left: DataFrame \u001b[38;5;241m|\u001b[39m Series,\n\u001b[0;32m   (...)\u001b[0m\n\u001b[1;32m    642\u001b[0m     validate: \u001b[38;5;28mstr\u001b[39m \u001b[38;5;241m|\u001b[39m \u001b[38;5;28;01mNone\u001b[39;00m \u001b[38;5;241m=\u001b[39m \u001b[38;5;28;01mNone\u001b[39;00m,\n\u001b[1;32m    643\u001b[0m ) \u001b[38;5;241m-\u001b[39m\u001b[38;5;241m>\u001b[39m \u001b[38;5;28;01mNone\u001b[39;00m:\n\u001b[1;32m    644\u001b[0m     _left \u001b[38;5;241m=\u001b[39m _validate_operand(left)\n\u001b[0;32m--> 645\u001b[0m     _right \u001b[38;5;241m=\u001b[39m _validate_operand(right)\n\u001b[1;32m    646\u001b[0m     \u001b[38;5;28mself\u001b[39m\u001b[38;5;241m.\u001b[39mleft \u001b[38;5;241m=\u001b[39m \u001b[38;5;28mself\u001b[39m\u001b[38;5;241m.\u001b[39morig_left \u001b[38;5;241m=\u001b[39m _left\n\u001b[1;32m    647\u001b[0m     \u001b[38;5;28mself\u001b[39m\u001b[38;5;241m.\u001b[39mright \u001b[38;5;241m=\u001b[39m \u001b[38;5;28mself\u001b[39m\u001b[38;5;241m.\u001b[39morig_right \u001b[38;5;241m=\u001b[39m _right\n",
      "File \u001b[0;32m~/anaconda3/lib/python3.11/site-packages/pandas/core/reshape/merge.py:2426\u001b[0m, in \u001b[0;36m_validate_operand\u001b[0;34m(obj)\u001b[0m\n\u001b[1;32m   2424\u001b[0m         \u001b[38;5;28;01mreturn\u001b[39;00m obj\u001b[38;5;241m.\u001b[39mto_frame()\n\u001b[1;32m   2425\u001b[0m \u001b[38;5;28;01melse\u001b[39;00m:\n\u001b[0;32m-> 2426\u001b[0m     \u001b[38;5;28;01mraise\u001b[39;00m \u001b[38;5;167;01mTypeError\u001b[39;00m(\n\u001b[1;32m   2427\u001b[0m         \u001b[38;5;124mf\u001b[39m\u001b[38;5;124m\"\u001b[39m\u001b[38;5;124mCan only merge Series or DataFrame objects, a \u001b[39m\u001b[38;5;132;01m{\u001b[39;00m\u001b[38;5;28mtype\u001b[39m(obj)\u001b[38;5;132;01m}\u001b[39;00m\u001b[38;5;124m was passed\u001b[39m\u001b[38;5;124m\"\u001b[39m\n\u001b[1;32m   2428\u001b[0m     )\n",
      "\u001b[0;31mTypeError\u001b[0m: Can only merge Series or DataFrame objects, a <class 'list'> was passed"
     ]
    }
   ],
   "source": [
    "industry_names = avg_value_weighted_return_M.columns.tolist()\n",
    "regression_results_table = pd.DataFrame(columns=['industry_name', 'regression_coefficient', 'regression_pvalue'])\n",
    "for industry_name in industry_names:\n",
    "    industry_portfolios_table_filtered = [avg_value_weighted_return_M[industry_name]]\n",
    "    merged_table = pd.merge(climate_search, industry_portfolios_table_filtered, on='Date')\n",
    "    regression_model = pd.ols('industry_returns ~ google_trends_climate_change_topic_score', data=merged_table)\n",
    "    regression_coefficient = regression_model.coef_[0]\n",
    "    regression_pvalue = regression_model.pvalues_[0]\n",
    "    regression_results_table = regression_results_table.append({'industry_name': industry_name, 'regression_coefficient': regression_coefficient, 'regression_pvalue': regression_pvalue}, ignore_index=True)\n",
    "\n",
    "regression_results_table = regression_results_table.sort_values(by=['regression_coefficient'], ascending=False)\n",
    "\n",
    "print(regression_results_table)"
   ]
  },
  {
   "cell_type": "markdown",
   "metadata": {},
   "source": [
    "##### iii. \n",
    "Comment on the ordering of the industries. Is it in line with what you would have expected?"
   ]
  },
  {
   "cell_type": "markdown",
   "metadata": {},
   "source": [
    "##### iv. \n",
    "Repeat i.-iii. for two new climate change-related Google search terms of your choice. One of these terms should be related to physical risk (e.g. heat wave, hurricane, wildifre) and one should be related to transition risk (e.g. environmental regulation, carbon tax, cap and trade)."
   ]
  },
  {
   "cell_type": "markdown",
   "metadata": {},
   "source": [
    "#### (b) (25 points) \n",
    "Download the Ardia et al. (2020) data from https://sentometrics-research.com/download/mccc/. Focus on the tab “SSRN 2022 version (monthly).” Repeat problem 3a using this data instead of Google Trends. Instead of Google searches for the Climate Change topic, use the column called “Aggregate.” Instead of Google searches for physical and transition risk topics, choose one physical risk-related and one transition-risk related series from the Ardia et al. (2020) data. Try to choose the series that are most closely related to the Google searches you chose above. Comment on the similarities and differences in the industry rankings you find when using the Ardia et al. (2020) compared to the Google data."
   ]
  }
 ],
 "metadata": {
  "kernelspec": {
   "display_name": "Python 3 (ipykernel)",
   "language": "python",
   "name": "python3"
  },
  "language_info": {
   "codemirror_mode": {
    "name": "ipython",
    "version": 3
   },
   "file_extension": ".py",
   "mimetype": "text/x-python",
   "name": "python",
   "nbconvert_exporter": "python",
   "pygments_lexer": "ipython3",
   "version": "3.11.4"
  }
 },
 "nbformat": 4,
 "nbformat_minor": 2
}
